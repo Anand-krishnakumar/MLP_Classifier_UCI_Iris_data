{
  "nbformat": 4,
  "nbformat_minor": 0,
  "metadata": {
    "colab": {
      "name": "MLPClassifier_UCI_Iris_data.ipynb",
      "version": "0.3.2",
      "provenance": [],
      "collapsed_sections": [],
      "include_colab_link": true
    },
    "kernelspec": {
      "name": "python3",
      "display_name": "Python 3"
    },
    "accelerator": "GPU"
  },
  "cells": [
    {
      "cell_type": "markdown",
      "metadata": {
        "id": "view-in-github",
        "colab_type": "text"
      },
      "source": [
        "[View in Colaboratory](https://colab.research.google.com/github/Anand-krishnakumar/MLP_Classifier_UCI_Iris_data/blob/master/MLPClassifier_UCI_Iris_data.ipynb)"
      ]
    },
    {
      "metadata": {
        "id": "8evlSCpnxOwQ",
        "colab_type": "code",
        "colab": {
          "base_uri": "https://localhost:8080/",
          "height": 255
        },
        "outputId": "83d85bed-7e17-411b-8c94-efc5506bb209"
      },
      "cell_type": "code",
      "source": [
        "from sklearn.neural_network import MLPClassifier\n",
        "from sklearn import preprocessing\n",
        "from sklearn.preprocessing import StandardScaler\n",
        "from sklearn.model_selection import train_test_split\n",
        "from sklearn.metrics import accuracy_score\n",
        "from sklearn.metrics import classification_report,confusion_matrix\n",
        "import pandas as pd\n",
        "import numpy as np\n",
        "#url for dataset - Iris data\n",
        "url = 'https://archive.ics.uci.edu/ml/machine-learning-databases/iris/iris.data'\n",
        "# column attributes\n",
        "names =['sepal_length','sepal_width','petal_length', 'petal_width','class']\n",
        "# df is the dataframa\n",
        "df = pd.read_csv(url, names=names)\n",
        "#splitting the input and output as X, y\n",
        "X = df.iloc[:,:].drop(['class'], axis = 1)\n",
        "y = df['class']\n",
        "#splitting the dataset into training and testing data.\n",
        "X_train, X_test, y_train, y_test = train_test_split(X, y, random_state = 110)\n",
        "\n",
        "# scaling and transforming the dataset\n",
        "scaler = StandardScaler()\n",
        "scaler.fit(X_train)\n",
        "X_train = scaler.transform(X_train)\n",
        "X_test = scaler.transform(X_test)\n",
        "\n",
        "#Found the given combination gave the best results.\n",
        "mlp = MLPClassifier(solver='lbfgs', alpha=1e-5, hidden_layer_sizes=(5), random_state=110, activation='relu', max_iter=200)\n",
        "\n",
        "mlp.fit(X_train,y_train)\n",
        "print(\"Training loss = \" + str(mlp.loss_))\n",
        "print()\n",
        "predictions = mlp.predict(X_test)\n",
        "\n",
        "print(confusion_matrix(y_test,predictions))\n",
        "print(classification_report(y_test,predictions))\n",
        "\n",
        "print(\"Accuracy Score = \" + str(accuracy_score(y_test,predictions)))\n",
        "\n",
        "\n",
        "\n",
        "\n",
        "\n",
        "\n"
      ],
      "execution_count": 171,
      "outputs": [
        {
          "output_type": "stream",
          "text": [
            "Training loss = 0.05075986435491307\n",
            "\n",
            "[[11  0  0]\n",
            " [ 0 20  0]\n",
            " [ 0  0  7]]\n",
            "                 precision    recall  f1-score   support\n",
            "\n",
            "    Iris-setosa       1.00      1.00      1.00        11\n",
            "Iris-versicolor       1.00      1.00      1.00        20\n",
            " Iris-virginica       1.00      1.00      1.00         7\n",
            "\n",
            "    avg / total       1.00      1.00      1.00        38\n",
            "\n",
            "Accuracy Score = 1.0\n"
          ],
          "name": "stdout"
        }
      ]
    }
  ]
}