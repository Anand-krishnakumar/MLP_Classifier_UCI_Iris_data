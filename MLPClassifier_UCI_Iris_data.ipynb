{
  "nbformat": 4,
  "nbformat_minor": 0,
  "metadata": {
    "colab": {
      "name": "MLPClassifier_UCI_Iris_data.ipynb",
      "version": "0.3.2",
      "provenance": [],
      "include_colab_link": true
    },
    "kernelspec": {
      "name": "python3",
      "display_name": "Python 3"
    },
    "accelerator": "GPU"
  },
  "cells": [
    {
      "cell_type": "markdown",
      "metadata": {
        "id": "view-in-github",
        "colab_type": "text"
      },
      "source": [
        "[View in Colaboratory](https://colab.research.google.com/github/Anand-krishnakumar/MLP_Classifier_UCI_Iris_data/blob/master/MLPClassifier_UCI_Iris_data.ipynb)"
      ]
    },
    {
      "metadata": {
        "id": "8evlSCpnxOwQ",
        "colab_type": "code",
        "colab": {
          "base_uri": "https://localhost:8080/",
          "height": 221
        },
        "outputId": "59245c10-233d-4878-ceda-e7db4bf0aec1"
      },
      "cell_type": "code",
      "source": [
        "from sklearn.neural_network import MLPClassifier\n",
        "from sklearn import preprocessing\n",
        "from sklearn.preprocessing import StandardScaler\n",
        "from sklearn.model_selection import train_test_split\n",
        "from sklearn.metrics import accuracy_score\n",
        "from sklearn.metrics import classification_report,confusion_matrix\n",
        "import pandas as pd\n",
        "import numpy as np\n",
        "\n",
        "url = 'https://archive.ics.uci.edu/ml/machine-learning-databases/iris/iris.data'\n",
        "names =['sepal_length','sepal_width','petal_length', 'petal_width','class']\n",
        "df = pd.read_csv(url, names=names)\n",
        "\n",
        "df1 = pd.read_csv('http://archive.ics.uci.edu/ml/machine-learning-databases/breast-cancer-wisconsin/breast-cancer-wisconsin.data', names = ['Sample code number','Clump Thickness','Uniformity of Cell Size', 'Uniformity of Cell Shape','Marginal Adhesion', 'Single Epithelial Cell Size','Bare Nuclei','Bland Chromatin','Normal Nucleoli','Mitoses','Class'])\n",
        "X = df.iloc[:,:].drop(['class'], axis = 1)\n",
        "y = df['class']\n",
        "X_train, X_test, y_train, y_test = train_test_split(X, y, random_state = 1)\n",
        "scaler = StandardScaler()\n",
        "# Fit only to the training data\n",
        "scaler.fit(X_train)\n",
        "# Now apply the transformations to the data:\n",
        "X_train = scaler.transform(X_train)\n",
        "X_test = scaler.transform(X_test)\n",
        "mlp = MLPClassifier(solver='lbfgs', alpha=1e-5, hidden_layer_sizes=(5,5,10), random_state=110, activation='relu', max_iter=200)\n",
        "mlp.fit(X_train,y_train)\n",
        "predictions = mlp.predict(X_test)\n",
        "\n",
        "print(confusion_matrix(y_test,predictions))\n",
        "print(classification_report(y_test,predictions))\n",
        "\n",
        "print(\"Accuracy Score = \" + str(accuracy_score(y_test,predictions)))\n",
        "\n",
        "\n",
        "\n",
        "\n",
        "\n",
        "\n"
      ],
      "execution_count": 116,
      "outputs": [
        {
          "output_type": "stream",
          "text": [
            "[[13  0  0]\n",
            " [ 0 15  1]\n",
            " [ 0  0  9]]\n",
            "                 precision    recall  f1-score   support\n",
            "\n",
            "    Iris-setosa       1.00      1.00      1.00        13\n",
            "Iris-versicolor       1.00      0.94      0.97        16\n",
            " Iris-virginica       0.90      1.00      0.95         9\n",
            "\n",
            "    avg / total       0.98      0.97      0.97        38\n",
            "\n",
            "Accuracy Score = 0.9736842105263158\n"
          ],
          "name": "stdout"
        }
      ]
    }
  ]
}